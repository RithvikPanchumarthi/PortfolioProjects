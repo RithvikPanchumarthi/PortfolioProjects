{
  "nbformat": 4,
  "nbformat_minor": 0,
  "metadata": {
    "colab": {
      "provenance": []
    },
    "kernelspec": {
      "name": "python3",
      "display_name": "Python 3"
    },
    "language_info": {
      "name": "python"
    }
  },
  "cells": [
    {
      "cell_type": "code",
      "execution_count": null,
      "metadata": {
        "id": "o5Lnzbus6Gle"
      },
      "outputs": [],
      "source": [
        "!apt-get install sqlite3"
      ]
    },
    {
      "cell_type": "code",
      "source": [
        "import sqlite3"
      ],
      "metadata": {
        "id": "VXgnkI7Y7Sw4"
      },
      "execution_count": 2,
      "outputs": []
    },
    {
      "cell_type": "code",
      "source": [
        "import os"
      ],
      "metadata": {
        "id": "5Qy-Qqd57UVo"
      },
      "execution_count": 3,
      "outputs": []
    },
    {
      "cell_type": "code",
      "source": [
        "if os.path.exists('PortfolioProject.db'): #Substitute with your DB name\n",
        "    os.remove('PortfolioProject.db')\n",
        "    print('Database deleted.')\n",
        "else:\n",
        "    print('Database does not exist.')"
      ],
      "metadata": {
        "id": "m0McukbJ7WHq"
      },
      "execution_count": null,
      "outputs": []
    },
    {
      "cell_type": "code",
      "source": [
        "conn = sqlite3.connect('PortfolioProject.db') #Substitute with your DB name"
      ],
      "metadata": {
        "id": "vKqk2eSy7YES"
      },
      "execution_count": 5,
      "outputs": []
    },
    {
      "cell_type": "markdown",
      "source": [
        "IN THE ABOVE STEP WE MADE A CONNECTION TO THE DATABASE AND ACTIVATED IT FOR DATA QUERIES."
      ],
      "metadata": {
        "id": "dzX2dnar7dWi"
      }
    },
    {
      "cell_type": "code",
      "source": [
        "import pandas as pd\n",
        "#import sqlite3\n",
        "\n",
        "# Connect to the database\n",
        "conn = sqlite3.connect('PortfolioProject.db')\n",
        "\n",
        "# Read the data from the Excel file into a pandas DataFrame\n",
        "df = pd.read_excel('NashvilleHousing.xlsx')\n",
        "\n",
        "# Insert the data from the DataFrame into the database table\n",
        "df.to_sql('NashvilleHousing', conn, if_exists='append', index=False)"
      ],
      "metadata": {
        "colab": {
          "base_uri": "https://localhost:8080/"
        },
        "id": "i2aFa1Fv7e_q",
        "outputId": "c4f653c6-6d6e-4e68-9a68-1f9770871222"
      },
      "execution_count": 6,
      "outputs": [
        {
          "output_type": "execute_result",
          "data": {
            "text/plain": [
              "56477"
            ]
          },
          "metadata": {},
          "execution_count": 6
        }
      ]
    },
    {
      "cell_type": "code",
      "source": [
        "conn.commit()"
      ],
      "metadata": {
        "id": "6pSuULpi8CMI"
      },
      "execution_count": 7,
      "outputs": []
    },
    {
      "cell_type": "markdown",
      "source": [
        "THING TO EXECUTE YOUR SQL QUERY USING SQLITE AND COLAB"
      ],
      "metadata": {
        "id": "P5ZrcD6h8IYB"
      }
    },
    {
      "cell_type": "code",
      "source": [
        "##execute the SQL query and fetch the results\n",
        "# cursor = conn.execute(\"\")\n",
        "# results = cursor.fetchall()\n",
        "\n",
        "# # create a pandas dataframe from the results\n",
        "# df = pd.DataFrame(results, columns=[col[0] for col in cursor.description])\n",
        "\n",
        "# # display the dataframe as a table\n",
        "# display(df)"
      ],
      "metadata": {
        "id": "ORNSDV3z8HYc"
      },
      "execution_count": null,
      "outputs": []
    },
    {
      "cell_type": "code",
      "source": [
        "# from google.colab import data_table\n",
        "# data_table.enable_dataframe_formatter()"
      ],
      "metadata": {
        "id": "Hrs-jaTI-iaH"
      },
      "execution_count": null,
      "outputs": []
    },
    {
      "cell_type": "code",
      "source": [
        "# # Read the Excel file into a dataframe\n",
        "# df = pd.read_excel(\"NashvilleHousing.xlsx\")\n",
        "\n",
        "# # Display the dataframe using DataTables\n",
        "# data_table.DataTable(df)\n"
      ],
      "metadata": {
        "id": "LOTdhcCa-nep"
      },
      "execution_count": null,
      "outputs": []
    },
    {
      "cell_type": "code",
      "source": [
        "# execute the SQL query and fetch the results\n",
        "cursor = conn.execute(\"SELECT * FROM PRAGMA_TABLE_INFO('NashvilleHousing')\")\n",
        "results = cursor.fetchall()\n",
        "\n",
        "# create a pandas dataframe from the results\n",
        "df = pd.DataFrame(results, columns=[col[0] for col in cursor.description])\n",
        "\n",
        "# display the dataframe as a table\n",
        "display(df)"
      ],
      "metadata": {
        "id": "OAmfWGpsJCOm"
      },
      "execution_count": null,
      "outputs": []
    },
    {
      "cell_type": "code",
      "source": [
        "# execute the SQL query and fetch the results\n",
        "cursor = conn.execute(\"SELECT * FROM NashvilleHousing LIMIT 3\")\n",
        "results = cursor.fetchall()\n",
        "\n",
        "# create a pandas dataframe from the results\n",
        "df = pd.DataFrame(results, columns=[col[0] for col in cursor.description])\n",
        "\n",
        "# display the dataframe as a table\n",
        "display(df)"
      ],
      "metadata": {
        "id": "wehf1Cs28LYk"
      },
      "execution_count": null,
      "outputs": []
    },
    {
      "cell_type": "code",
      "source": [
        "# # convert SaleDate to datetime format\n",
        "# df['SaleDate'] = pd.to_datetime(df['SaleDate'])\n",
        "\n",
        "# # convert SaleDate to date format\n",
        "# df['SaleDate'] = df['SaleDate'].dt.date\n",
        "\n",
        "# # display the dataframe\n",
        "# display(df)\n"
      ],
      "metadata": {
        "id": "pYftqzIyCGx_"
      },
      "execution_count": null,
      "outputs": []
    },
    {
      "cell_type": "code",
      "source": [
        "# execute the SQL query and fetch the results\n",
        "cursor = conn.execute(\"SELECT SaleDate, CAST(SaleDate AS DATE) AS SaleDateOnly FROM NashvilleHousing LIMIT 3\")\n",
        "results = cursor.fetchall()\n",
        "\n",
        "# for result in results:\n",
        "#   print(result)\n",
        "# create a pandas dataframe from the results\n",
        "df = pd.DataFrame(results, columns=[col[0] for col in cursor.description])\n",
        "\n",
        "# display the dataframe as a table\n",
        "display(df)\n"
      ],
      "metadata": {
        "id": "gjxg2D6fApc3"
      },
      "execution_count": null,
      "outputs": []
    },
    {
      "cell_type": "code",
      "source": [
        "#Standardizing Date Format\n",
        "cursor = conn.execute(\"UPDATE NashvilleHousing SET SaleDate = CAST(SaleDate AS DATE) \")"
      ],
      "metadata": {
        "id": "xfbmiwN2BBmc"
      },
      "execution_count": 13,
      "outputs": []
    },
    {
      "cell_type": "code",
      "source": [
        "#Try This Code if the above cell not fine with your table\n",
        "cursor = conn.execute(\"ALTER TABLE NashvilleHousing Add SaleDateConverted Date;\")\n",
        "cursor = conn.execute(\"Update NashvilleHousing SET SaleDateConverted = CAST(SaleDate AS DATE)\")\n",
        "cursor = conn.execute(\"Select saleDateConverted, CAST(SaleDate AS DATE) From NashvilleHousing\")\n",
        "\n",
        "results = cursor.fetchall()\n",
        "df = pd.DataFrame(results, columns=[col[0] for col in cursor.description])\n",
        "display(df)"
      ],
      "metadata": {
        "id": "FIvCAkU4AsZ6"
      },
      "execution_count": null,
      "outputs": []
    },
    {
      "cell_type": "code",
      "source": [
        "#Populating Property Address Data CHECK NULL and NOT NULL\n",
        "cursor = conn.execute(\"SELECT PropertyAddress FROM NashvilleHousing WHERE PropertyAddress IS NOT NULL LIMIT 5\")\n",
        "\n",
        "\n",
        "results = cursor.fetchall()\n",
        "df = pd.DataFrame(results, columns=[col[0] for col in cursor.description])\n",
        "display(df)"
      ],
      "metadata": {
        "id": "w7cGvSUWFjIz"
      },
      "execution_count": null,
      "outputs": []
    },
    {
      "cell_type": "code",
      "source": [
        "#In this we are joining the tavle by self Join which can be helped to create Column of MergedPropertyAdderess if the Propertyaddress is null\n",
        "cursor = conn.execute(\"SELECT a.ParcelID, a.PropertyAddress, b.ParcelID, b.PropertyAddress, COALESCE(a.PropertyAddress, b.PropertyAddress) AS MergedPropertyAddress FROM NashvilleHousing a JOIN NashvilleHousing b ON a.ParcelID = b.ParcelID AND a.[UniqueID ] <> b.[UniqueID ] WHERE a.PropertyAddress IS NULL\")\n",
        "results = cursor.fetchall()\n",
        "df = pd.DataFrame(results, columns=[col[0] for col in cursor.description])\n",
        "display(df)\n"
      ],
      "metadata": {
        "id": "hmu41FsEFq-t"
      },
      "execution_count": null,
      "outputs": []
    },
    {
      "cell_type": "code",
      "source": [
        "cursor = conn.execute(\"UPDATE NashvilleHousing SET PropertyAddress = COALESCE(PropertyAddress, (SELECT b.PropertyAddress FROM NashvilleHousing b WHERE NashvilleHousing.ParcelID = b.ParcelID AND NashvilleHousing.[UniqueID ] <> b.[UniqueID ] AND b.PropertyAddress IS NOT NULL LIMIT 1)) WHERE PropertyAddress IS NULL\")\n"
      ],
      "metadata": {
        "id": "8drhPIHmEg3R"
      },
      "execution_count": 32,
      "outputs": []
    },
    {
      "cell_type": "code",
      "source": [
        "cursor = conn.execute(\"SELECT a.ParcelID, a.PropertyAddress, b.ParcelID, b.PropertyAddress, COALESCE(a.PropertyAddress, b.PropertyAddress) AS MergedPropertyAddress FROM NashvilleHousing a JOIN NashvilleHousing b ON a.ParcelID = b.ParcelID AND a.[UniqueID ] <> b.[UniqueID ] WHERE a.PropertyAddress IS  NULL LIMIT 5\")\n",
        "results = cursor.fetchall()\n",
        "df = pd.DataFrame(results, columns=[col[0] for col in cursor.description])\n",
        "display(df)\n"
      ],
      "metadata": {
        "id": "UGjj_LccG9vS"
      },
      "execution_count": null,
      "outputs": []
    },
    {
      "cell_type": "markdown",
      "source": [
        "Breaking out Address into Individual Columns (Address, City, State"
      ],
      "metadata": {
        "id": "EoTAzyzQRSKK"
      }
    },
    {
      "cell_type": "code",
      "source": [
        "cursor = conn.execute(\"Select PropertyAddress From NashvilleHousing LIMIT 5\")\n",
        "#--Where PropertyAddress is null --order by ParcelID \n",
        "\n",
        "results = cursor.fetchall()\n",
        "df = pd.DataFrame(results, columns=[col[0] for col in cursor.description])\n",
        "display(df)"
      ],
      "metadata": {
        "id": "DYuo1nnHQxVg"
      },
      "execution_count": null,
      "outputs": []
    },
    {
      "cell_type": "code",
      "source": [
        "cursor = conn.execute(\"SELECT substr(PropertyAddress, 1, instr(PropertyAddress,',')) AS Address FROM NashvilleHousing\")\n",
        "results = cursor.fetchall()\n",
        "df = pd.DataFrame(results, columns=[col[0] for col in cursor.description])\n",
        "display(df)\n"
      ],
      "metadata": {
        "id": "9y67pyK-HR3P"
      },
      "execution_count": null,
      "outputs": []
    },
    {
      "cell_type": "code",
      "source": [
        "cursor = conn.execute(\"SELECT substr(PropertyAddress, 1, instr(PropertyAddress,',')-1) AS Address, substr(PropertyAddress, instr(PropertyAddress,',') +1, LENGTH(PropertyAddress)) AS Address FROM NashvilleHousing\")\n",
        "results = cursor.fetchall()\n",
        "df = pd.DataFrame(results, columns=[col[0] for col in cursor.description])\n",
        "display(df)\n"
      ],
      "metadata": {
        "id": "Ez87EnGfRZRZ"
      },
      "execution_count": null,
      "outputs": []
    },
    {
      "cell_type": "code",
      "source": [
        "cursor = conn.execute(\"ALTER TABLE NashvilleHousing ADD PropertySplitAddress nvarchar(255)\")\n",
        "cursor = conn.execute(\"Update NashvilleHousing SET PropertySplitAddress = substr(PropertyAddress, 1, instr(PropertyAddress,',')-1)\")\n"
      ],
      "metadata": {
        "id": "7EUQHcd4TTug"
      },
      "execution_count": 64,
      "outputs": []
    },
    {
      "cell_type": "code",
      "source": [
        "cursor = conn.execute(\"ALTER TABLE NashvilleHousing ADD  PropertySplitCity nvarchar(255)\")\n",
        "cursor = conn.execute(\"Update NashvilleHousing SET PropertySplitCity = substr(PropertyAddress, instr(PropertyAddress,',') +1, LENGTH(PropertyAddress))\")\n"
      ],
      "metadata": {
        "id": "-EgOBEjTTZCN"
      },
      "execution_count": null,
      "outputs": []
    },
    {
      "cell_type": "code",
      "source": [
        "cursor = conn.execute(\"SELECT * FROM NashvilleHousing\")\n",
        "\n",
        "results = cursor.fetchall()\n",
        "df = pd.DataFrame(results, columns=[col[0] for col in cursor.description])\n",
        "display(df) "
      ],
      "metadata": {
        "id": "ZCe_ELHrU4Ua"
      },
      "execution_count": null,
      "outputs": []
    },
    {
      "cell_type": "code",
      "source": [
        "#Want to format out the OwnerAddress\n",
        "cursor = conn.execute(\"SELECT OwnerAddress FROM NashvilleHousing\")\n",
        "\n",
        "results = cursor.fetchall()\n",
        "df = pd.DataFrame(results, columns=[col[0] for col in cursor.description])\n",
        "display(df) "
      ],
      "metadata": {
        "id": "N0AuQouFVxfk"
      },
      "execution_count": null,
      "outputs": []
    },
    {
      "cell_type": "code",
      "source": [
        "cursor = conn.execute(\"SELECT OwnerAddress, substr(OwnerAddress, 1, instr(OwnerAddress, ',')-1) as Address1, substr(OwnerAddress, instr(OwnerAddress, ',')+1, instr(substr(OwnerAddress, instr(OwnerAddress, ',')+1), ',')-1) as Address2, substr(OwnerAddress, instr(substr(OwnerAddress, instr(OwnerAddress, ',')+1), ',')+1) as Address3 FROM NashvilleHousing\")\n",
        "\n",
        "results = cursor.fetchall()\n",
        "df = pd.DataFrame(results, columns=[col[0] for col in cursor.description])\n",
        "display(df)"
      ],
      "metadata": {
        "id": "Xl1MzLTzZe_z"
      },
      "execution_count": null,
      "outputs": []
    },
    {
      "cell_type": "markdown",
      "source": [
        "Supporting up the Table to have 3 new coulmns"
      ],
      "metadata": {
        "id": "Jdtl-ApOa5MW"
      }
    },
    {
      "cell_type": "code",
      "source": [
        "cursor = conn.execute(\"ALTER TABLE NashvilleHousing ADD  OwnerSplitAddress nvarchar(255)\")\n",
        "cursor = conn.execute(\"Update NashvilleHousing SET OwnerSplitAddress = substr(OwnerAddress, 1, instr(OwnerAddress, ',')-1)\")"
      ],
      "metadata": {
        "id": "QZ3lfIQMaGz4"
      },
      "execution_count": 93,
      "outputs": []
    },
    {
      "cell_type": "code",
      "source": [
        "#cursor = conn.execute(\"ALTER TABLE NashvilleHousing ADD  OwnerSplitCity nvarchar(255)\")\n",
        "cursor = conn.execute(\"Update NashvilleHousing SET OwnerSplitCity = substr(OwnerAddress, instr(OwnerAddress, ',')+1, instr(substr(OwnerAddress, instr(OwnerAddress, ',')+1), ',')-1)\")"
      ],
      "metadata": {
        "id": "dldMqU2saH3N"
      },
      "execution_count": 100,
      "outputs": []
    },
    {
      "cell_type": "code",
      "source": [
        "#cursor = conn.execute(\"ALTER TABLE NashvilleHousing ADD  OwnerSplitState nvarchar(255)\")\n",
        "cursor = conn.execute(\"UPDATE NashvilleHousing SET OwnerSplitState = SUBSTR(OwnerAddress, INSTR(OwnerAddress, ',')+2)\")\n"
      ],
      "metadata": {
        "id": "pNLbCR5eaIfZ"
      },
      "execution_count": 110,
      "outputs": []
    },
    {
      "cell_type": "code",
      "source": [
        "cursor = conn.execute(\"UPDATE NashvilleHousing SET OwnerSplitState = SUBSTR(OwnerAddress, -2, 2)\")"
      ],
      "metadata": {
        "id": "2wW0w289eGq3"
      },
      "execution_count": 112,
      "outputs": []
    },
    {
      "cell_type": "code",
      "source": [
        "cursor = conn.execute(\"SELECT * FROM NashvilleHousing\")\n",
        "\n",
        "results = cursor.fetchall()\n",
        "df = pd.DataFrame(results, columns=[col[0] for col in cursor.description])\n",
        "display(df)"
      ],
      "metadata": {
        "id": "X1U2fBlKbA9C"
      },
      "execution_count": null,
      "outputs": []
    },
    {
      "cell_type": "code",
      "source": [
        "#Changing the value of Y to Yes and N to NO\n",
        "\n",
        "cursor = conn.execute(\"SELECT DISTINCT(SoldAsVacant), COUNT(SoldAsVacant) FROM NashvilleHousing GROUP BY SoldAsVacant\")\n",
        "\n",
        "results = cursor.fetchall()\n",
        "df = pd.DataFrame(results, columns=[col[0] for col in cursor.description])\n",
        "display(df)"
      ],
      "metadata": {
        "id": "Ss44vB5BeT_2"
      },
      "execution_count": null,
      "outputs": []
    },
    {
      "cell_type": "code",
      "source": [
        "cursor = conn.execute(\"SELECT SoldAsVacant, CASE WHEN SoldAsVacant = 'Y' THEN 'YES' WHEN SoldAsVacant = 'N' THEN 'NO' ELSE SoldAsVAcant END FROM NashvilleHousing\")\n",
        "\n",
        "results = cursor.fetchall()\n",
        "df = pd.DataFrame(results, columns=[col[0] for col in cursor.description])\n",
        "display(df)"
      ],
      "metadata": {
        "id": "GuX1zLhxhSIK"
      },
      "execution_count": null,
      "outputs": []
    },
    {
      "cell_type": "code",
      "source": [
        "cursor = conn.execute(\"UPDATE NashvilleHousing SET SoldAsVacant = CASE WHEN SoldAsVacant = 'YES' THEN 'Yes' WHEN SoldAsVacant = 'NO' THEN 'No' ELSE SoldAsVacant END\")\n",
        "conn.commit()"
      ],
      "metadata": {
        "id": "PQnKnmQeh32p"
      },
      "execution_count": 142,
      "outputs": []
    },
    {
      "cell_type": "code",
      "source": [
        "cursor = conn.execute(\"SELECT DISTINCT(SoldAsVacant), COUNT(SoldAsVacant) FROM NashvilleHousing GROUP BY SoldAsVacant\")\n",
        "\n",
        "results = cursor.fetchall()\n",
        "df = pd.DataFrame(results, columns=[col[0] for col in cursor.description])\n",
        "display(df)"
      ],
      "metadata": {
        "id": "xDLiVSUbjzaY"
      },
      "execution_count": null,
      "outputs": []
    },
    {
      "cell_type": "markdown",
      "source": [
        "REOMOVING DUPLICATES\n",
        "ROW_NUMBER"
      ],
      "metadata": {
        "id": "LDUig-WolBe3"
      }
    },
    {
      "cell_type": "code",
      "source": [
        "cursor = conn.execute(\"WITH RowNumCTE AS ( SELECT *, ROW_NUMBER() OVER ( PARTITION BY ParcelID, PropertyAddress, SalePrice, SaleDate, LegalReference ORDER BY [UniqueID ] ) row_num FROM NashvilleHousing ) SELECT * FROM RowNumCTE WHERE row_num > 1 ORDER BY PropertyAddress\")\n",
        "results = cursor.fetchall()\n",
        "df = pd.DataFrame(results, columns=[col[0] for col in cursor.description])\n",
        "display(df)"
      ],
      "metadata": {
        "colab": {
          "base_uri": "https://localhost:8080/",
          "height": 794
        },
        "id": "oDjgjoZzkhrd",
        "outputId": "aa1d6aef-252e-4379-d91a-b46567fdbace"
      },
      "execution_count": 153,
      "outputs": [
        {
          "output_type": "display_data",
          "data": {
            "text/plain": [
              "     UniqueID           ParcelID            LandUse  \\\n",
              "0        27354   107 14 0 157.00      SINGLE FAMILY   \n",
              "1        27383   150 04 0 144.00      SINGLE FAMILY   \n",
              "2        27362   119 16 0 084.00             DUPLEX   \n",
              "3        27132   091 08 0 056.00      SINGLE FAMILY   \n",
              "4        27368  135 10 0E 020.00  RESIDENTIAL CONDO   \n",
              "..         ...               ...                ...   \n",
              "115      27378  149 04 0A 010.00      SINGLE FAMILY   \n",
              "116      36772   094 05 0 039.00      SINGLE FAMILY   \n",
              "117      38286   082 08 0 111.00      SINGLE FAMILY   \n",
              "118      12620  107 13 0A 026.00  RESIDENTIAL CONDO   \n",
              "119      27361   119 16 0 080.00      SINGLE FAMILY   \n",
              "\n",
              "                       PropertyAddress  SaleDate  SalePrice    LegalReference  \\\n",
              "0         1003  BRILEY PKWY, NASHVILLE      2015      80000  20150219-0014347   \n",
              "1        1005  ESTURBRIDGE CT, ANTIOCH      2015     180000  20150213-0013547   \n",
              "2         1006  DRUMMOND DR, NASHVILLE      2015      80000  20150218-0014086   \n",
              "3          1011  43RD AVE N, NASHVILLE      2015      69900  20150227-0017102   \n",
              "4    1023  CAPITAL FUNDS CT, NASHVILLE      2015     118981  20150210-0012380   \n",
              "..                                 ...       ...        ...               ...   \n",
              "115        908  TOWNVIEW PL, NASHVILLE      2015     138900  20150210-0012194   \n",
              "116          910  S 13TH ST, NASHVILLE      2015     137000  20150427-0037202   \n",
              "117     923  W EASTLAND AVE, NASHVILLE      2015     320000  20150625-0060993   \n",
              "118         926  COARSEY DR, NASHVILLE      2014      25000  20140207-0011111   \n",
              "119        934  DRUMMOND DR, NASHVILLE      2015     139000  20150218-0013634   \n",
              "\n",
              "    SoldAsVacant                        OwnerName  \\\n",
              "0             No                 GREEN, KASSANDRA   \n",
              "1             No                      TINNEY, STU   \n",
              "2             No                      POST, KEVIN   \n",
              "3             No             MENDING HEARTS, INC.   \n",
              "4             No                             None   \n",
              "..           ...                              ...   \n",
              "115           No                             None   \n",
              "116           No                      PAIGE, RYAN   \n",
              "117           No  MATCHETT, LUKE & BIRD, MARIA N.   \n",
              "118           No                             None   \n",
              "119           No               FORD, KELLY JOSEPH   \n",
              "\n",
              "                           OwnerAddress  ...  Bedrooms FullBath  HalfBath  \\\n",
              "0      1003  BRILEY PKWY, NASHVILLE, TN  ...       2.0      2.0       0.0   \n",
              "1     1005  ESTURBRIDGE CT, ANTIOCH, TN  ...       4.0      3.0       0.0   \n",
              "2      1006  DRUMMOND DR, NASHVILLE, TN  ...       4.0      3.0       0.0   \n",
              "3       1011  43RD AVE N, NASHVILLE, TN  ...       3.0      2.0       0.0   \n",
              "4                                  None  ...       NaN      NaN       NaN   \n",
              "..                                  ...  ...       ...      ...       ...   \n",
              "115                                None  ...       NaN      NaN       NaN   \n",
              "116       910  S 13TH ST, NASHVILLE, TN  ...       2.0      1.0       0.0   \n",
              "117  923  W EASTLAND AVE, NASHVILLE, TN  ...       2.0      1.0       0.0   \n",
              "118                                None  ...       NaN      NaN       NaN   \n",
              "119     934  DRUMMOND DR, NASHVILLE, TN  ...       2.0      1.0       0.0   \n",
              "\n",
              "     SaleDateConverted  PropertySplitCity    PropertySplitAddress  \\\n",
              "0                 2015          NASHVILLE       1003  BRILEY PKWY   \n",
              "1                 2015            ANTIOCH    1005  ESTURBRIDGE CT   \n",
              "2                 2015          NASHVILLE       1006  DRUMMOND DR   \n",
              "3                 2015          NASHVILLE        1011  43RD AVE N   \n",
              "4                 2015          NASHVILLE  1023  CAPITAL FUNDS CT   \n",
              "..                 ...                ...                     ...   \n",
              "115               2015          NASHVILLE        908  TOWNVIEW PL   \n",
              "116               2015          NASHVILLE          910  S 13TH ST   \n",
              "117               2015          NASHVILLE     923  W EASTLAND AVE   \n",
              "118               2014          NASHVILLE         926  COARSEY DR   \n",
              "119               2015          NASHVILLE        934  DRUMMOND DR   \n",
              "\n",
              "        OwnerSplitAddress  OwnerSplitCity  OwnerSplitState  row_num  \n",
              "0       1003  BRILEY PKWY       NASHVILLE               TN        2  \n",
              "1    1005  ESTURBRIDGE CT         ANTIOCH               TN        2  \n",
              "2       1006  DRUMMOND DR       NASHVILLE               TN        2  \n",
              "3        1011  43RD AVE N       NASHVILLE               TN        2  \n",
              "4                    None            None             None        2  \n",
              "..                    ...             ...              ...      ...  \n",
              "115                  None            None             None        2  \n",
              "116        910  S 13TH ST       NASHVILLE               TN        2  \n",
              "117   923  W EASTLAND AVE       NASHVILLE               TN        2  \n",
              "118                  None            None             None        2  \n",
              "119      934  DRUMMOND DR       NASHVILLE               TN        2  \n",
              "\n",
              "[120 rows x 26 columns]"
            ],
            "text/html": [
              "\n",
              "  <div id=\"df-120c6dfd-fcb5-435b-bca1-175ba98e9b61\">\n",
              "    <div class=\"colab-df-container\">\n",
              "      <div>\n",
              "<style scoped>\n",
              "    .dataframe tbody tr th:only-of-type {\n",
              "        vertical-align: middle;\n",
              "    }\n",
              "\n",
              "    .dataframe tbody tr th {\n",
              "        vertical-align: top;\n",
              "    }\n",
              "\n",
              "    .dataframe thead th {\n",
              "        text-align: right;\n",
              "    }\n",
              "</style>\n",
              "<table border=\"1\" class=\"dataframe\">\n",
              "  <thead>\n",
              "    <tr style=\"text-align: right;\">\n",
              "      <th></th>\n",
              "      <th>UniqueID</th>\n",
              "      <th>ParcelID</th>\n",
              "      <th>LandUse</th>\n",
              "      <th>PropertyAddress</th>\n",
              "      <th>SaleDate</th>\n",
              "      <th>SalePrice</th>\n",
              "      <th>LegalReference</th>\n",
              "      <th>SoldAsVacant</th>\n",
              "      <th>OwnerName</th>\n",
              "      <th>OwnerAddress</th>\n",
              "      <th>...</th>\n",
              "      <th>Bedrooms</th>\n",
              "      <th>FullBath</th>\n",
              "      <th>HalfBath</th>\n",
              "      <th>SaleDateConverted</th>\n",
              "      <th>PropertySplitCity</th>\n",
              "      <th>PropertySplitAddress</th>\n",
              "      <th>OwnerSplitAddress</th>\n",
              "      <th>OwnerSplitCity</th>\n",
              "      <th>OwnerSplitState</th>\n",
              "      <th>row_num</th>\n",
              "    </tr>\n",
              "  </thead>\n",
              "  <tbody>\n",
              "    <tr>\n",
              "      <th>0</th>\n",
              "      <td>27354</td>\n",
              "      <td>107 14 0 157.00</td>\n",
              "      <td>SINGLE FAMILY</td>\n",
              "      <td>1003  BRILEY PKWY, NASHVILLE</td>\n",
              "      <td>2015</td>\n",
              "      <td>80000</td>\n",
              "      <td>20150219-0014347</td>\n",
              "      <td>No</td>\n",
              "      <td>GREEN, KASSANDRA</td>\n",
              "      <td>1003  BRILEY PKWY, NASHVILLE, TN</td>\n",
              "      <td>...</td>\n",
              "      <td>2.0</td>\n",
              "      <td>2.0</td>\n",
              "      <td>0.0</td>\n",
              "      <td>2015</td>\n",
              "      <td>NASHVILLE</td>\n",
              "      <td>1003  BRILEY PKWY</td>\n",
              "      <td>1003  BRILEY PKWY</td>\n",
              "      <td>NASHVILLE</td>\n",
              "      <td>TN</td>\n",
              "      <td>2</td>\n",
              "    </tr>\n",
              "    <tr>\n",
              "      <th>1</th>\n",
              "      <td>27383</td>\n",
              "      <td>150 04 0 144.00</td>\n",
              "      <td>SINGLE FAMILY</td>\n",
              "      <td>1005  ESTURBRIDGE CT, ANTIOCH</td>\n",
              "      <td>2015</td>\n",
              "      <td>180000</td>\n",
              "      <td>20150213-0013547</td>\n",
              "      <td>No</td>\n",
              "      <td>TINNEY, STU</td>\n",
              "      <td>1005  ESTURBRIDGE CT, ANTIOCH, TN</td>\n",
              "      <td>...</td>\n",
              "      <td>4.0</td>\n",
              "      <td>3.0</td>\n",
              "      <td>0.0</td>\n",
              "      <td>2015</td>\n",
              "      <td>ANTIOCH</td>\n",
              "      <td>1005  ESTURBRIDGE CT</td>\n",
              "      <td>1005  ESTURBRIDGE CT</td>\n",
              "      <td>ANTIOCH</td>\n",
              "      <td>TN</td>\n",
              "      <td>2</td>\n",
              "    </tr>\n",
              "    <tr>\n",
              "      <th>2</th>\n",
              "      <td>27362</td>\n",
              "      <td>119 16 0 084.00</td>\n",
              "      <td>DUPLEX</td>\n",
              "      <td>1006  DRUMMOND DR, NASHVILLE</td>\n",
              "      <td>2015</td>\n",
              "      <td>80000</td>\n",
              "      <td>20150218-0014086</td>\n",
              "      <td>No</td>\n",
              "      <td>POST, KEVIN</td>\n",
              "      <td>1006  DRUMMOND DR, NASHVILLE, TN</td>\n",
              "      <td>...</td>\n",
              "      <td>4.0</td>\n",
              "      <td>3.0</td>\n",
              "      <td>0.0</td>\n",
              "      <td>2015</td>\n",
              "      <td>NASHVILLE</td>\n",
              "      <td>1006  DRUMMOND DR</td>\n",
              "      <td>1006  DRUMMOND DR</td>\n",
              "      <td>NASHVILLE</td>\n",
              "      <td>TN</td>\n",
              "      <td>2</td>\n",
              "    </tr>\n",
              "    <tr>\n",
              "      <th>3</th>\n",
              "      <td>27132</td>\n",
              "      <td>091 08 0 056.00</td>\n",
              "      <td>SINGLE FAMILY</td>\n",
              "      <td>1011  43RD AVE N, NASHVILLE</td>\n",
              "      <td>2015</td>\n",
              "      <td>69900</td>\n",
              "      <td>20150227-0017102</td>\n",
              "      <td>No</td>\n",
              "      <td>MENDING HEARTS, INC.</td>\n",
              "      <td>1011  43RD AVE N, NASHVILLE, TN</td>\n",
              "      <td>...</td>\n",
              "      <td>3.0</td>\n",
              "      <td>2.0</td>\n",
              "      <td>0.0</td>\n",
              "      <td>2015</td>\n",
              "      <td>NASHVILLE</td>\n",
              "      <td>1011  43RD AVE N</td>\n",
              "      <td>1011  43RD AVE N</td>\n",
              "      <td>NASHVILLE</td>\n",
              "      <td>TN</td>\n",
              "      <td>2</td>\n",
              "    </tr>\n",
              "    <tr>\n",
              "      <th>4</th>\n",
              "      <td>27368</td>\n",
              "      <td>135 10 0E 020.00</td>\n",
              "      <td>RESIDENTIAL CONDO</td>\n",
              "      <td>1023  CAPITAL FUNDS CT, NASHVILLE</td>\n",
              "      <td>2015</td>\n",
              "      <td>118981</td>\n",
              "      <td>20150210-0012380</td>\n",
              "      <td>No</td>\n",
              "      <td>None</td>\n",
              "      <td>None</td>\n",
              "      <td>...</td>\n",
              "      <td>NaN</td>\n",
              "      <td>NaN</td>\n",
              "      <td>NaN</td>\n",
              "      <td>2015</td>\n",
              "      <td>NASHVILLE</td>\n",
              "      <td>1023  CAPITAL FUNDS CT</td>\n",
              "      <td>None</td>\n",
              "      <td>None</td>\n",
              "      <td>None</td>\n",
              "      <td>2</td>\n",
              "    </tr>\n",
              "    <tr>\n",
              "      <th>...</th>\n",
              "      <td>...</td>\n",
              "      <td>...</td>\n",
              "      <td>...</td>\n",
              "      <td>...</td>\n",
              "      <td>...</td>\n",
              "      <td>...</td>\n",
              "      <td>...</td>\n",
              "      <td>...</td>\n",
              "      <td>...</td>\n",
              "      <td>...</td>\n",
              "      <td>...</td>\n",
              "      <td>...</td>\n",
              "      <td>...</td>\n",
              "      <td>...</td>\n",
              "      <td>...</td>\n",
              "      <td>...</td>\n",
              "      <td>...</td>\n",
              "      <td>...</td>\n",
              "      <td>...</td>\n",
              "      <td>...</td>\n",
              "      <td>...</td>\n",
              "    </tr>\n",
              "    <tr>\n",
              "      <th>115</th>\n",
              "      <td>27378</td>\n",
              "      <td>149 04 0A 010.00</td>\n",
              "      <td>SINGLE FAMILY</td>\n",
              "      <td>908  TOWNVIEW PL, NASHVILLE</td>\n",
              "      <td>2015</td>\n",
              "      <td>138900</td>\n",
              "      <td>20150210-0012194</td>\n",
              "      <td>No</td>\n",
              "      <td>None</td>\n",
              "      <td>None</td>\n",
              "      <td>...</td>\n",
              "      <td>NaN</td>\n",
              "      <td>NaN</td>\n",
              "      <td>NaN</td>\n",
              "      <td>2015</td>\n",
              "      <td>NASHVILLE</td>\n",
              "      <td>908  TOWNVIEW PL</td>\n",
              "      <td>None</td>\n",
              "      <td>None</td>\n",
              "      <td>None</td>\n",
              "      <td>2</td>\n",
              "    </tr>\n",
              "    <tr>\n",
              "      <th>116</th>\n",
              "      <td>36772</td>\n",
              "      <td>094 05 0 039.00</td>\n",
              "      <td>SINGLE FAMILY</td>\n",
              "      <td>910  S 13TH ST, NASHVILLE</td>\n",
              "      <td>2015</td>\n",
              "      <td>137000</td>\n",
              "      <td>20150427-0037202</td>\n",
              "      <td>No</td>\n",
              "      <td>PAIGE, RYAN</td>\n",
              "      <td>910  S 13TH ST, NASHVILLE, TN</td>\n",
              "      <td>...</td>\n",
              "      <td>2.0</td>\n",
              "      <td>1.0</td>\n",
              "      <td>0.0</td>\n",
              "      <td>2015</td>\n",
              "      <td>NASHVILLE</td>\n",
              "      <td>910  S 13TH ST</td>\n",
              "      <td>910  S 13TH ST</td>\n",
              "      <td>NASHVILLE</td>\n",
              "      <td>TN</td>\n",
              "      <td>2</td>\n",
              "    </tr>\n",
              "    <tr>\n",
              "      <th>117</th>\n",
              "      <td>38286</td>\n",
              "      <td>082 08 0 111.00</td>\n",
              "      <td>SINGLE FAMILY</td>\n",
              "      <td>923  W EASTLAND AVE, NASHVILLE</td>\n",
              "      <td>2015</td>\n",
              "      <td>320000</td>\n",
              "      <td>20150625-0060993</td>\n",
              "      <td>No</td>\n",
              "      <td>MATCHETT, LUKE &amp; BIRD, MARIA N.</td>\n",
              "      <td>923  W EASTLAND AVE, NASHVILLE, TN</td>\n",
              "      <td>...</td>\n",
              "      <td>2.0</td>\n",
              "      <td>1.0</td>\n",
              "      <td>0.0</td>\n",
              "      <td>2015</td>\n",
              "      <td>NASHVILLE</td>\n",
              "      <td>923  W EASTLAND AVE</td>\n",
              "      <td>923  W EASTLAND AVE</td>\n",
              "      <td>NASHVILLE</td>\n",
              "      <td>TN</td>\n",
              "      <td>2</td>\n",
              "    </tr>\n",
              "    <tr>\n",
              "      <th>118</th>\n",
              "      <td>12620</td>\n",
              "      <td>107 13 0A 026.00</td>\n",
              "      <td>RESIDENTIAL CONDO</td>\n",
              "      <td>926  COARSEY DR, NASHVILLE</td>\n",
              "      <td>2014</td>\n",
              "      <td>25000</td>\n",
              "      <td>20140207-0011111</td>\n",
              "      <td>No</td>\n",
              "      <td>None</td>\n",
              "      <td>None</td>\n",
              "      <td>...</td>\n",
              "      <td>NaN</td>\n",
              "      <td>NaN</td>\n",
              "      <td>NaN</td>\n",
              "      <td>2014</td>\n",
              "      <td>NASHVILLE</td>\n",
              "      <td>926  COARSEY DR</td>\n",
              "      <td>None</td>\n",
              "      <td>None</td>\n",
              "      <td>None</td>\n",
              "      <td>2</td>\n",
              "    </tr>\n",
              "    <tr>\n",
              "      <th>119</th>\n",
              "      <td>27361</td>\n",
              "      <td>119 16 0 080.00</td>\n",
              "      <td>SINGLE FAMILY</td>\n",
              "      <td>934  DRUMMOND DR, NASHVILLE</td>\n",
              "      <td>2015</td>\n",
              "      <td>139000</td>\n",
              "      <td>20150218-0013634</td>\n",
              "      <td>No</td>\n",
              "      <td>FORD, KELLY JOSEPH</td>\n",
              "      <td>934  DRUMMOND DR, NASHVILLE, TN</td>\n",
              "      <td>...</td>\n",
              "      <td>2.0</td>\n",
              "      <td>1.0</td>\n",
              "      <td>0.0</td>\n",
              "      <td>2015</td>\n",
              "      <td>NASHVILLE</td>\n",
              "      <td>934  DRUMMOND DR</td>\n",
              "      <td>934  DRUMMOND DR</td>\n",
              "      <td>NASHVILLE</td>\n",
              "      <td>TN</td>\n",
              "      <td>2</td>\n",
              "    </tr>\n",
              "  </tbody>\n",
              "</table>\n",
              "<p>120 rows × 26 columns</p>\n",
              "</div>\n",
              "      <button class=\"colab-df-convert\" onclick=\"convertToInteractive('df-120c6dfd-fcb5-435b-bca1-175ba98e9b61')\"\n",
              "              title=\"Convert this dataframe to an interactive table.\"\n",
              "              style=\"display:none;\">\n",
              "        \n",
              "  <svg xmlns=\"http://www.w3.org/2000/svg\" height=\"24px\"viewBox=\"0 0 24 24\"\n",
              "       width=\"24px\">\n",
              "    <path d=\"M0 0h24v24H0V0z\" fill=\"none\"/>\n",
              "    <path d=\"M18.56 5.44l.94 2.06.94-2.06 2.06-.94-2.06-.94-.94-2.06-.94 2.06-2.06.94zm-11 1L8.5 8.5l.94-2.06 2.06-.94-2.06-.94L8.5 2.5l-.94 2.06-2.06.94zm10 10l.94 2.06.94-2.06 2.06-.94-2.06-.94-.94-2.06-.94 2.06-2.06.94z\"/><path d=\"M17.41 7.96l-1.37-1.37c-.4-.4-.92-.59-1.43-.59-.52 0-1.04.2-1.43.59L10.3 9.45l-7.72 7.72c-.78.78-.78 2.05 0 2.83L4 21.41c.39.39.9.59 1.41.59.51 0 1.02-.2 1.41-.59l7.78-7.78 2.81-2.81c.8-.78.8-2.07 0-2.86zM5.41 20L4 18.59l7.72-7.72 1.47 1.35L5.41 20z\"/>\n",
              "  </svg>\n",
              "      </button>\n",
              "      \n",
              "  <style>\n",
              "    .colab-df-container {\n",
              "      display:flex;\n",
              "      flex-wrap:wrap;\n",
              "      gap: 12px;\n",
              "    }\n",
              "\n",
              "    .colab-df-convert {\n",
              "      background-color: #E8F0FE;\n",
              "      border: none;\n",
              "      border-radius: 50%;\n",
              "      cursor: pointer;\n",
              "      display: none;\n",
              "      fill: #1967D2;\n",
              "      height: 32px;\n",
              "      padding: 0 0 0 0;\n",
              "      width: 32px;\n",
              "    }\n",
              "\n",
              "    .colab-df-convert:hover {\n",
              "      background-color: #E2EBFA;\n",
              "      box-shadow: 0px 1px 2px rgba(60, 64, 67, 0.3), 0px 1px 3px 1px rgba(60, 64, 67, 0.15);\n",
              "      fill: #174EA6;\n",
              "    }\n",
              "\n",
              "    [theme=dark] .colab-df-convert {\n",
              "      background-color: #3B4455;\n",
              "      fill: #D2E3FC;\n",
              "    }\n",
              "\n",
              "    [theme=dark] .colab-df-convert:hover {\n",
              "      background-color: #434B5C;\n",
              "      box-shadow: 0px 1px 3px 1px rgba(0, 0, 0, 0.15);\n",
              "      filter: drop-shadow(0px 1px 2px rgba(0, 0, 0, 0.3));\n",
              "      fill: #FFFFFF;\n",
              "    }\n",
              "  </style>\n",
              "\n",
              "      <script>\n",
              "        const buttonEl =\n",
              "          document.querySelector('#df-120c6dfd-fcb5-435b-bca1-175ba98e9b61 button.colab-df-convert');\n",
              "        buttonEl.style.display =\n",
              "          google.colab.kernel.accessAllowed ? 'block' : 'none';\n",
              "\n",
              "        async function convertToInteractive(key) {\n",
              "          const element = document.querySelector('#df-120c6dfd-fcb5-435b-bca1-175ba98e9b61');\n",
              "          const dataTable =\n",
              "            await google.colab.kernel.invokeFunction('convertToInteractive',\n",
              "                                                     [key], {});\n",
              "          if (!dataTable) return;\n",
              "\n",
              "          const docLinkHtml = 'Like what you see? Visit the ' +\n",
              "            '<a target=\"_blank\" href=https://colab.research.google.com/notebooks/data_table.ipynb>data table notebook</a>'\n",
              "            + ' to learn more about interactive tables.';\n",
              "          element.innerHTML = '';\n",
              "          dataTable['output_type'] = 'display_data';\n",
              "          await google.colab.output.renderOutput(dataTable, element);\n",
              "          const docLink = document.createElement('div');\n",
              "          docLink.innerHTML = docLinkHtml;\n",
              "          element.appendChild(docLink);\n",
              "        }\n",
              "      </script>\n",
              "    </div>\n",
              "  </div>\n",
              "  "
            ]
          },
          "metadata": {}
        },
        {
          "output_type": "stream",
          "name": "stdout",
          "text": [
            "Warning: Total number of columns (26) exceeds max_columns (20) limiting to first (20) columns.\n"
          ]
        }
      ]
    },
    {
      "cell_type": "code",
      "source": [
        "#Deleting out the Duplicate Values in CTE\n",
        "cursor = conn.execute(\"DELETE FROM NashvilleHousing WHERE [UniqueID ] IN ( SELECT [UniqueID ] FROM ( SELECT [UniqueID ], ROW_NUMBER() OVER ( PARTITION BY ParcelID, PropertyAddress, SalePrice, SaleDate, LegalReference ORDER BY [UniqueID ]) row_num FROM NashvilleHousing ) t WHERE row_num > 1 )\")"
      ],
      "metadata": {
        "id": "kQEdfI6so2iL"
      },
      "execution_count": 161,
      "outputs": []
    },
    {
      "cell_type": "code",
      "source": [
        "cursor = conn.execute(\"WITH RowNumCTE AS ( SELECT *, ROW_NUMBER() OVER ( PARTITION BY ParcelID, PropertyAddress, SalePrice, SaleDate, LegalReference ORDER BY [UniqueID ] ) row_num FROM NashvilleHousing ) SELECT * FROM RowNumCTE WHERE row_num > 1 ORDER BY PropertyAddress\")\n",
        "results = cursor.fetchall()\n",
        "df = pd.DataFrame(results, columns=[col[0] for col in cursor.description])\n",
        "display(df)"
      ],
      "metadata": {
        "colab": {
          "base_uri": "https://localhost:8080/",
          "height": 142
        },
        "id": "N__iQKJupnBt",
        "outputId": "a7d7fe70-5ee7-4c24-9120-eb24029d9a6d"
      },
      "execution_count": 176,
      "outputs": [
        {
          "output_type": "display_data",
          "data": {
            "text/plain": [
              "Empty DataFrame\n",
              "Columns: [UniqueID , ParcelID, LandUse, PropertyAddress, SaleDate, SalePrice, LegalReference, SoldAsVacant, OwnerName, OwnerAddress, Acreage, TaxDistrict, LandValue, BuildingValue, TotalValue, YearBuilt, Bedrooms, FullBath, HalfBath, SaleDateConverted, PropertySplitCity, PropertySplitAddress, OwnerSplitAddress, OwnerSplitCity, OwnerSplitState, row_num]\n",
              "Index: []\n",
              "\n",
              "[0 rows x 26 columns]"
            ],
            "text/html": [
              "\n",
              "  <div id=\"df-be1fa9db-bd62-4305-be14-b38e5b5c87b7\">\n",
              "    <div class=\"colab-df-container\">\n",
              "      <div>\n",
              "<style scoped>\n",
              "    .dataframe tbody tr th:only-of-type {\n",
              "        vertical-align: middle;\n",
              "    }\n",
              "\n",
              "    .dataframe tbody tr th {\n",
              "        vertical-align: top;\n",
              "    }\n",
              "\n",
              "    .dataframe thead th {\n",
              "        text-align: right;\n",
              "    }\n",
              "</style>\n",
              "<table border=\"1\" class=\"dataframe\">\n",
              "  <thead>\n",
              "    <tr style=\"text-align: right;\">\n",
              "      <th></th>\n",
              "      <th>UniqueID</th>\n",
              "      <th>ParcelID</th>\n",
              "      <th>LandUse</th>\n",
              "      <th>PropertyAddress</th>\n",
              "      <th>SaleDate</th>\n",
              "      <th>SalePrice</th>\n",
              "      <th>LegalReference</th>\n",
              "      <th>SoldAsVacant</th>\n",
              "      <th>OwnerName</th>\n",
              "      <th>OwnerAddress</th>\n",
              "      <th>...</th>\n",
              "      <th>Bedrooms</th>\n",
              "      <th>FullBath</th>\n",
              "      <th>HalfBath</th>\n",
              "      <th>SaleDateConverted</th>\n",
              "      <th>PropertySplitCity</th>\n",
              "      <th>PropertySplitAddress</th>\n",
              "      <th>OwnerSplitAddress</th>\n",
              "      <th>OwnerSplitCity</th>\n",
              "      <th>OwnerSplitState</th>\n",
              "      <th>row_num</th>\n",
              "    </tr>\n",
              "  </thead>\n",
              "  <tbody>\n",
              "  </tbody>\n",
              "</table>\n",
              "<p>0 rows × 26 columns</p>\n",
              "</div>\n",
              "      <button class=\"colab-df-convert\" onclick=\"convertToInteractive('df-be1fa9db-bd62-4305-be14-b38e5b5c87b7')\"\n",
              "              title=\"Convert this dataframe to an interactive table.\"\n",
              "              style=\"display:none;\">\n",
              "        \n",
              "  <svg xmlns=\"http://www.w3.org/2000/svg\" height=\"24px\"viewBox=\"0 0 24 24\"\n",
              "       width=\"24px\">\n",
              "    <path d=\"M0 0h24v24H0V0z\" fill=\"none\"/>\n",
              "    <path d=\"M18.56 5.44l.94 2.06.94-2.06 2.06-.94-2.06-.94-.94-2.06-.94 2.06-2.06.94zm-11 1L8.5 8.5l.94-2.06 2.06-.94-2.06-.94L8.5 2.5l-.94 2.06-2.06.94zm10 10l.94 2.06.94-2.06 2.06-.94-2.06-.94-.94-2.06-.94 2.06-2.06.94z\"/><path d=\"M17.41 7.96l-1.37-1.37c-.4-.4-.92-.59-1.43-.59-.52 0-1.04.2-1.43.59L10.3 9.45l-7.72 7.72c-.78.78-.78 2.05 0 2.83L4 21.41c.39.39.9.59 1.41.59.51 0 1.02-.2 1.41-.59l7.78-7.78 2.81-2.81c.8-.78.8-2.07 0-2.86zM5.41 20L4 18.59l7.72-7.72 1.47 1.35L5.41 20z\"/>\n",
              "  </svg>\n",
              "      </button>\n",
              "      \n",
              "  <style>\n",
              "    .colab-df-container {\n",
              "      display:flex;\n",
              "      flex-wrap:wrap;\n",
              "      gap: 12px;\n",
              "    }\n",
              "\n",
              "    .colab-df-convert {\n",
              "      background-color: #E8F0FE;\n",
              "      border: none;\n",
              "      border-radius: 50%;\n",
              "      cursor: pointer;\n",
              "      display: none;\n",
              "      fill: #1967D2;\n",
              "      height: 32px;\n",
              "      padding: 0 0 0 0;\n",
              "      width: 32px;\n",
              "    }\n",
              "\n",
              "    .colab-df-convert:hover {\n",
              "      background-color: #E2EBFA;\n",
              "      box-shadow: 0px 1px 2px rgba(60, 64, 67, 0.3), 0px 1px 3px 1px rgba(60, 64, 67, 0.15);\n",
              "      fill: #174EA6;\n",
              "    }\n",
              "\n",
              "    [theme=dark] .colab-df-convert {\n",
              "      background-color: #3B4455;\n",
              "      fill: #D2E3FC;\n",
              "    }\n",
              "\n",
              "    [theme=dark] .colab-df-convert:hover {\n",
              "      background-color: #434B5C;\n",
              "      box-shadow: 0px 1px 3px 1px rgba(0, 0, 0, 0.15);\n",
              "      filter: drop-shadow(0px 1px 2px rgba(0, 0, 0, 0.3));\n",
              "      fill: #FFFFFF;\n",
              "    }\n",
              "  </style>\n",
              "\n",
              "      <script>\n",
              "        const buttonEl =\n",
              "          document.querySelector('#df-be1fa9db-bd62-4305-be14-b38e5b5c87b7 button.colab-df-convert');\n",
              "        buttonEl.style.display =\n",
              "          google.colab.kernel.accessAllowed ? 'block' : 'none';\n",
              "\n",
              "        async function convertToInteractive(key) {\n",
              "          const element = document.querySelector('#df-be1fa9db-bd62-4305-be14-b38e5b5c87b7');\n",
              "          const dataTable =\n",
              "            await google.colab.kernel.invokeFunction('convertToInteractive',\n",
              "                                                     [key], {});\n",
              "          if (!dataTable) return;\n",
              "\n",
              "          const docLinkHtml = 'Like what you see? Visit the ' +\n",
              "            '<a target=\"_blank\" href=https://colab.research.google.com/notebooks/data_table.ipynb>data table notebook</a>'\n",
              "            + ' to learn more about interactive tables.';\n",
              "          element.innerHTML = '';\n",
              "          dataTable['output_type'] = 'display_data';\n",
              "          await google.colab.output.renderOutput(dataTable, element);\n",
              "          const docLink = document.createElement('div');\n",
              "          docLink.innerHTML = docLinkHtml;\n",
              "          element.appendChild(docLink);\n",
              "        }\n",
              "      </script>\n",
              "    </div>\n",
              "  </div>\n",
              "  "
            ]
          },
          "metadata": {}
        }
      ]
    },
    {
      "cell_type": "code",
      "source": [
        "#DELETING OF UNUSED  COLUMNS\n",
        "cursor = conn.execute(\"ALTER TABLE NashvilleHousing DROP COLUMN OwnerAddress\")\n",
        "cursor = conn.execute(\"ALTER TABLE NashvilleHousing DROP COLUMN TaxDistrict\")\n",
        "cursor = conn.execute(\"ALTER TABLE NashvilleHousing DROP COLUMN PropertyAddress\")\n",
        "cursor = conn.execute(\"ALTER TABLE NashvilleHousing DROP COLUMN SaleDate\")\n"
      ],
      "metadata": {
        "id": "K2i4wrEfp6ON"
      },
      "execution_count": null,
      "outputs": []
    }
  ]
}