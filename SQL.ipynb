{
  "nbformat": 4,
  "nbformat_minor": 0,
  "metadata": {
    "colab": {
      "provenance": []
    },
    "kernelspec": {
      "name": "python3",
      "display_name": "Python 3"
    },
    "language_info": {
      "name": "python"
    }
  },
  "cells": [
    {
      "cell_type": "code",
      "execution_count": null,
      "metadata": {
        "id": "ZK92smTrmz9Z"
      },
      "outputs": [],
      "source": [
        "!apt-get install sqlite3"
      ]
    },
    {
      "cell_type": "code",
      "source": [
        "import sqlite3"
      ],
      "metadata": {
        "id": "Q_5_mgYtn-g_"
      },
      "execution_count": 2,
      "outputs": []
    },
    {
      "cell_type": "code",
      "source": [
        "import os"
      ],
      "metadata": {
        "id": "y9VV0HDx9Gwj"
      },
      "execution_count": 3,
      "outputs": []
    },
    {
      "cell_type": "code",
      "source": [
        "if os.path.exists('PortfolioProject.db'): #Substitute with your DB name\n",
        "    os.remove('PortfolioProject.db')\n",
        "    print('Database deleted.')\n",
        "else:\n",
        "    print('Database does not exist.')\n"
      ],
      "metadata": {
        "colab": {
          "base_uri": "https://localhost:8080/"
        },
        "id": "ZYKSIf_59VRD",
        "outputId": "07986513-0bff-4b6b-881f-0052ad33372f"
      },
      "execution_count": 6,
      "outputs": [
        {
          "output_type": "stream",
          "name": "stdout",
          "text": [
            "Database deleted.\n"
          ]
        }
      ]
    },
    {
      "cell_type": "code",
      "source": [
        "conn = sqlite3.connect('PortfolioProject.db') #Substitute with your DB name"
      ],
      "metadata": {
        "id": "CHzxFH1vpwiv"
      },
      "execution_count": 8,
      "outputs": []
    },
    {
      "cell_type": "markdown",
      "source": [
        "IN THE ABOVE STEP WE MADE A CONNECTION TO THE DATABASE AND ACTIVATED IT FOR DATA QUERIES."
      ],
      "metadata": {
        "id": "lH_iscKU5j_G"
      }
    },
    {
      "cell_type": "code",
      "source": [
        "#Substitute with your Table name\n",
        "conn.execute('''CREATE TABLE mytable \n",
        "               (id INTEGER PRIMARY KEY, name TEXT, age INTEGER)''')"
      ],
      "metadata": {
        "id": "mjTVRH3n4e_N"
      },
      "execution_count": null,
      "outputs": []
    },
    {
      "cell_type": "code",
      "source": [
        "#conn.execute(\"INSERT INTO mytable (name, age) VALUES ('Sai', 23), ('Akhil', 29), ('Chintu', 24)\")\n",
        "#conn.execute(\"DELETE FROM mytable WHERE Age = 25 \")"
      ],
      "metadata": {
        "id": "AFmq6DSW4mpd"
      },
      "execution_count": null,
      "outputs": []
    },
    {
      "cell_type": "code",
      "source": [
        "cursor = conn.execute(\"SELECT * FROM mytable\")\n",
        "for row in cursor:\n",
        "    print(row)\n"
      ],
      "metadata": {
        "id": "76Ep9utA4r4z"
      },
      "execution_count": null,
      "outputs": []
    },
    {
      "cell_type": "code",
      "source": [
        "cursor = conn.execute(\"SELECT name FROM mytable\")\n",
        "for row in cursor:\n",
        "    print(row)\n"
      ],
      "metadata": {
        "id": "yJP69lT_5Ljj"
      },
      "execution_count": null,
      "outputs": []
    },
    {
      "cell_type": "code",
      "source": [
        "conn.commit()\n",
        "conn.close()"
      ],
      "metadata": {
        "id": "Y3ERjLIfJB-D"
      },
      "execution_count": null,
      "outputs": []
    },
    {
      "cell_type": "code",
      "source": [
        "conn = sqlite3.connect('PortfolioProject.db') #Substitute with your DB name"
      ],
      "metadata": {
        "id": "hy3K1M_KJlzk"
      },
      "execution_count": null,
      "outputs": []
    },
    {
      "cell_type": "markdown",
      "source": [
        "CREATED THE PORTFOLIO PROJECT DATABASE"
      ],
      "metadata": {
        "id": "A7zHdmPQNC5Z"
      }
    },
    {
      "cell_type": "code",
      "source": [
        "import pandas as pd\n",
        "#import sqlite3\n",
        "\n",
        "# Connect to the database\n",
        "conn = sqlite3.connect('PortfolioProject.db')\n",
        "\n",
        "# Read the data from the Excel file into a pandas DataFrame\n",
        "df = pd.read_excel('CovidDeaths.xlsx')\n",
        "\n",
        "# Insert the data from the DataFrame into the database table\n",
        "df.to_sql('CovidDeaths', conn, if_exists='append', index=False)\n",
        "\n",
        "\n"
      ],
      "metadata": {
        "colab": {
          "base_uri": "https://localhost:8080/"
        },
        "id": "u_AWyzSFLXro",
        "outputId": "0764a84b-fcb0-4910-98ac-20338dbc09ab"
      },
      "execution_count": 10,
      "outputs": [
        {
          "output_type": "execute_result",
          "data": {
            "text/plain": [
              "85171"
            ]
          },
          "metadata": {},
          "execution_count": 10
        }
      ]
    },
    {
      "cell_type": "code",
      "source": [
        "\n",
        "# Connect to the database\n",
        "conn = sqlite3.connect('PortfolioProject.db')\n",
        "\n",
        "# Read the data from the Excel file into a pandas DataFrame\n",
        "df = pd.read_excel('CovidVaccinations.xlsx')\n",
        "\n",
        "# Insert the data from the DataFrame into the database table\n",
        "df.to_sql('CovidVaccinations', conn, if_exists='append', index=False)\n",
        "\n",
        "\n"
      ],
      "metadata": {
        "colab": {
          "base_uri": "https://localhost:8080/"
        },
        "id": "iZPulZoGNYHa",
        "outputId": "5f0fe2c2-0f6a-438c-fb86-ab1e510499fb"
      },
      "execution_count": 11,
      "outputs": [
        {
          "output_type": "execute_result",
          "data": {
            "text/plain": [
              "85171"
            ]
          },
          "metadata": {},
          "execution_count": 11
        }
      ]
    },
    {
      "cell_type": "markdown",
      "source": [
        "EXTRACTED THE DATA FROM EXCEL USING PANDAS AND LOADED TO DB TABLE FROM DF"
      ],
      "metadata": {
        "id": "ApNwURvrNHsg"
      }
    },
    {
      "cell_type": "code",
      "source": [
        "conn.commit()"
      ],
      "metadata": {
        "id": "7RRGhQB8MMFi"
      },
      "execution_count": 12,
      "outputs": []
    },
    {
      "cell_type": "markdown",
      "source": [
        "THING TO EXECUTE YOUR SQL QUERY USING SQLITE AND COLAB"
      ],
      "metadata": {
        "id": "Taw5Ld09FEHp"
      }
    },
    {
      "cell_type": "code",
      "source": [
        "# cursor = conn.execute(\"\")\n",
        "# for row in cursor:\n",
        "#     print (row)"
      ],
      "metadata": {
        "id": "TO4wJ_XmE-81"
      },
      "execution_count": null,
      "outputs": []
    },
    {
      "cell_type": "code",
      "source": [
        "cursor = conn.execute(\"SELECT * FROM CovidVaccinations LIMIT 5\")\n",
        "for row in cursor:\n",
        "    print(row)\n"
      ],
      "metadata": {
        "id": "HLVcXIGVMq-r"
      },
      "execution_count": null,
      "outputs": []
    },
    {
      "cell_type": "code",
      "source": [
        "cursor = conn.execute(\"SELECT * FROM CovidDeaths LIMIT 5\")\n",
        "for row in cursor:\n",
        "    print(row)\n"
      ],
      "metadata": {
        "id": "1unYKwBkOoVb"
      },
      "execution_count": null,
      "outputs": []
    },
    {
      "cell_type": "code",
      "source": [
        "#This is the Required Data we are going to use\n",
        "cursor = conn.execute(\"SELECT Location, Date, Total_cases, new_cases, total_deaths, population FROM CovidDeaths ORDER BY 1,2 LIMIT 5\")\n",
        "for row in cursor:\n",
        "    print(row)\n"
      ],
      "metadata": {
        "id": "W2LgODOJAI9V"
      },
      "execution_count": null,
      "outputs": []
    },
    {
      "cell_type": "code",
      "source": [
        "#Looking Total cases and Total Deaths\n",
        "#Shows of the Likelihood of Dying if you are in India at that time \n",
        "cursor = conn.execute(\"SELECT Location, Date, Total_cases, total_deaths, (total_deaths/total_cases)*100 as DeathPercentage FROM CovidDeaths WHERE location LIKE '%india%' ORDER BY 1,2 LIMIT 4,49\")\n",
        "for row in cursor:\n",
        "    print(row)"
      ],
      "metadata": {
        "id": "17aoNeWYBQCX"
      },
      "execution_count": null,
      "outputs": []
    },
    {
      "cell_type": "code",
      "source": [
        "#Looking Total cases vs Population\n",
        "#It shows the percentage of the population who got covid\n",
        "cursor = conn.execute(\"SELECT Location, Date, Total_cases, population, (total_cases/population)*100 as InfectedPercentage FROM CovidDeaths WHERE location LIKE '%india%' ORDER BY 1,2 LIMIT 4,49\")\n",
        "for row in cursor:\n",
        "    print(row)"
      ],
      "metadata": {
        "id": "jeqkbhe2DSmk"
      },
      "execution_count": null,
      "outputs": []
    },
    {
      "cell_type": "code",
      "source": [
        "#Looking to countries at Highest Infection Rate\n",
        "cursor = conn.execute(\"SELECT location, population, MAX(total_cases) AS HighestInfectionCount, MAX(total_cases/population)*100 as percentagepopulationinfected FROM CovidDeaths GROUP  BY location, population ORDER BY percentagepopulationinfected DESC\")\n",
        "for row in cursor:\n",
        "    print (row)"
      ],
      "metadata": {
        "id": "RoN00xAUEuNv"
      },
      "execution_count": null,
      "outputs": []
    },
    {
      "cell_type": "code",
      "source": [
        "#Looking into countries with High Mortality\n",
        "#Looking to countries at Highest Infection Rate\n",
        "cursor = conn.execute(\"SELECT location, MAX(cast(total_deaths AS INT)) AS TotalDeathCount FROM CovidDeaths WHERE continent IS NOT NULL GROUP  BY location ORDER BY TotalDeathCount DESC LIMIT 5\")\n",
        "for row in cursor:\n",
        "    print (row)"
      ],
      "metadata": {
        "id": "G0uhiQyCHO7v"
      },
      "execution_count": null,
      "outputs": []
    },
    {
      "cell_type": "code",
      "source": [
        "cursor = conn.execute(\"SELECT * FROM CovidDeaths WHERE continent IS NOT NULL LIMIT 5\")\n",
        "for row in cursor:\n",
        "    print(row)\n"
      ],
      "metadata": {
        "id": "BPLGJrYtHzxq"
      },
      "execution_count": null,
      "outputs": []
    },
    {
      "cell_type": "code",
      "source": [
        "#BREAKING THIS BY CONTINENT\n",
        "cursor = conn.execute(\"SELECT continent, MAX(cast(total_deaths AS INT)) AS TotalDeathCount FROM CovidDeaths WHERE continent IS  NOT NULL GROUP  BY continent ORDER BY TotalDeathCount DESC LIMIT 10\")\n",
        "for row in cursor:\n",
        "    print (row)"
      ],
      "metadata": {
        "id": "EPcb7LobftUX"
      },
      "execution_count": null,
      "outputs": []
    },
    {
      "cell_type": "code",
      "source": [
        "#GLOBAL NUMBERS\n",
        "cursor = conn.execute(\"SELECT Date, SUM(new_cases) as Total_New_cases,SUM(CAST(new_deaths AS INT)) as Total_New_deaths, SUM(CAST(new_deaths AS INT))/SUM(new_cases)FROM CovidDeaths WHERE continent IS NOT NULL GROUP BY DATE ORDER BY 1,2 LIMIT 4,49\")\n",
        "for row in cursor:\n",
        "    print(row)"
      ],
      "metadata": {
        "id": "zhY-rN3sgHnR"
      },
      "execution_count": null,
      "outputs": []
    },
    {
      "cell_type": "code",
      "source": [
        "#TOTAL POLULATION VS VACCINATED\n",
        "cursor = conn.execute(\"SELECT dea.continent, dea.location, dea.date, dea.population, vac.new_vaccinations, SUM(CAST(vac.new_vaccinations AS INTEGER)) OVER (PARTITION BY dea.location ORDER BY dea.location,dea.date) as RollingPeopleVaccinated FROM CovidDeaths dea JOIN CovidVaccinations vac ON dea.location=vac.location AND vac.date=dea.date WHERE dea.continent IS NOT NULL ORDER BY dea.location, dea.date LIMIT 9000, 9100\")\n",
        "for row in cursor:\n",
        "    print (row)"
      ],
      "metadata": {
        "id": "Zu3Bv9z5lQrU"
      },
      "execution_count": null,
      "outputs": []
    },
    {
      "cell_type": "code",
      "source": [
        "#CTE \n",
        "\n",
        "PopvsVac = \"\"\"\n",
        "WITH PopvsVac AS (\n",
        "    SELECT \n",
        "        dea.continent, \n",
        "        dea.location, \n",
        "        dea.date, \n",
        "        dea.population, \n",
        "        vac.new_vaccinations, \n",
        "        SUM(CAST(vac.new_vaccinations AS INTEGER)) OVER (PARTITION BY dea.location ORDER BY dea.location, dea.date) as RollingPeopleVaccinated \n",
        "    FROM \n",
        "        CovidDeaths dea \n",
        "        JOIN CovidVaccinations vac ON dea.location=vac.location AND vac.date=dea.date \n",
        "    WHERE \n",
        "        dea.continent IS NOT NULL \n",
        "    LIMIT \n",
        "        9000, 9100\n",
        ")\n",
        "\n",
        "SELECT *, (RollingPeopleVaccinated/Population) FROM PopvsVac;\n",
        "\"\"\"\n",
        "\n",
        "# Execute the query and print the results\n",
        "cursor = conn.execute(PopvsVac)\n",
        "for row in cursor:\n",
        "    print(row)"
      ],
      "metadata": {
        "id": "vsuo9kgEmqgL"
      },
      "execution_count": null,
      "outputs": []
    },
    {
      "cell_type": "code",
      "source": [
        "# drop the table if it already exists\n",
        "conn.execute(\"DROP TABLE IF EXISTS temp_PercentPopulationVaccinated\")\n",
        "\n",
        "# create the table\n",
        "conn.execute(\"CREATE TABLE temp_PercentPopulationVaccinated (Continent nvarchar(255), Location nvarchar(255), Date datetime, Population numeric, New_vaccinations numeric, RollingPeopleVaccinated numeric)\")\n",
        "\n",
        "# insert data into the table\n",
        "query = (\"\"\"\n",
        "Insert into temp_PercentPopulationVaccinated\n",
        "Select dea.continent, dea.location, dea.date, dea.population, vac.new_vaccinations\n",
        ", SUM(CONVERT(int,vac.new_vaccinations)) OVER (Partition by dea.Location Order by dea.location, dea.Date) as RollingPeopleVaccinated\n",
        "--, (RollingPeopleVaccinated/population)*100\n",
        "From PortfolioProject..CovidDeaths dea\n",
        "Join PortfolioProject..CovidVaccinations vac\n",
        "\tOn dea.location = vac.location\n",
        "\tand dea.date = vac.date\n",
        "--where dea.continent is not null \n",
        "--order by 2,3\n",
        "\"\"\")\n",
        "cursor = conn.execute(query)\n",
        "\n",
        "\n",
        "result = conn.execute(\"SELECT *, (RollingPeopleVaccinated/Population)*100 FROM temp_PercentPopulationVaccinated\")\n",
        "for row in result:\n",
        "    print(row)\n",
        "\n"
      ],
      "metadata": {
        "id": "14B4qRNqt4DW"
      },
      "execution_count": null,
      "outputs": []
    },
    {
      "cell_type": "code",
      "source": [
        "%%bigquery\n",
        "CREATE VIEW PercentPopulationVaccinated AS\n",
        "SELECT dea.continent, dea.location, dea.date, dea.population, vac.new_vaccinations,\n",
        "SUM(CONVERT(int,vac.new_vaccinations)) OVER (PARTITION BY dea.Location ORDER BY dea.location, dea.Date) as RollingPeopleVaccinated\n",
        "FROM `your-project-name.PortfolioProject.CovidDeaths` dea\n",
        "JOIN `your-project-name.PortfolioProject.CovidVaccinations` vac\n",
        "ON dea.location = vac.location AND dea.date = vac.date\n",
        "WHERE dea.continent IS NOT NULL\n"
      ],
      "metadata": {
        "id": "HQwfei82zWtJ"
      },
      "execution_count": null,
      "outputs": []
    }
  ]
}